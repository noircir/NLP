{
 "cells": [
  {
   "cell_type": "markdown",
   "metadata": {},
   "source": [
    "# 1. Stemming\n",
    "\n",
    "Stemming works fairly well in most of the cases but unfortunately English has so many exceptions where a more sophisticated process is required.\n",
    "\n",
    "SpaCy dosen't include stemming, it uses lemmatization instead.\n",
    "\n",
    "Stemming is basically removes the suffixes from a word and reduce it to its root word.\n",
    "\n",
    "We will use Natural Language Toolkit (nltk) to understand and learn stemming\n"
   ]
  },
  {
   "cell_type": "markdown",
   "metadata": {},
   "source": [
    "## Porter Stemmer"
   ]
  },
  {
   "cell_type": "code",
   "execution_count": 1,
   "metadata": {},
   "outputs": [],
   "source": [
    "import nltk\n",
    "from nltk.stem.porter import PorterStemmer"
   ]
  },
  {
   "cell_type": "code",
   "execution_count": 2,
   "metadata": {},
   "outputs": [],
   "source": [
    "p_stemmer = PorterStemmer() # object of class PorterStemmer"
   ]
  },
  {
   "cell_type": "code",
   "execution_count": 12,
   "metadata": {},
   "outputs": [],
   "source": [
    "words = ['run','runner','running','ran','runs','easily','fairly', 'raining', 'beautiful', 'beauty'] # list of words "
   ]
  },
  {
   "cell_type": "code",
   "execution_count": 13,
   "metadata": {},
   "outputs": [
    {
     "name": "stdout",
     "output_type": "stream",
     "text": [
      "run------>run\n",
      "runner------>runner\n",
      "running------>run\n",
      "ran------>ran\n",
      "runs------>run\n",
      "easily------>easili\n",
      "fairly------>fairli\n",
      "raining------>rain\n",
      "beautiful------>beauti\n",
      "beauty------>beauti\n"
     ]
    }
   ],
   "source": [
    "for word in words:\n",
    "    print(word + '------>' + p_stemmer.stem(word))"
   ]
  },
  {
   "cell_type": "markdown",
   "metadata": {},
   "source": [
    "## Snowball Stemmer\n",
    "\n",
    "Snowball Stemmer is also called the \"English Stemmer\" or \"Porter2 Stemmer\"\n",
    "It offers a slight improvement over the original Porter stemmer"
   ]
  },
  {
   "cell_type": "code",
   "execution_count": 5,
   "metadata": {},
   "outputs": [],
   "source": [
    "from nltk.stem.snowball import SnowballStemmer\n",
    "# Pass a language parameter\n",
    "s_stemmer = SnowballStemmer(language='english')"
   ]
  },
  {
   "cell_type": "code",
   "execution_count": 14,
   "metadata": {},
   "outputs": [
    {
     "name": "stdout",
     "output_type": "stream",
     "text": [
      "run --> run\n",
      "runner --> runner\n",
      "running --> run\n",
      "ran --> ran\n",
      "runs --> run\n",
      "easily --> easili\n",
      "fairly --> fair\n",
      "raining --> rain\n",
      "beautiful --> beauti\n",
      "beauty --> beauti\n"
     ]
    }
   ],
   "source": [
    "for word in words:\n",
    "    print(word +' --> '+ s_stemmer.stem(word))"
   ]
  },
  {
   "cell_type": "markdown",
   "metadata": {},
   "source": [
    "# Lemmatization\n",
    "\n",
    "Lemmatization is the Process of converting words into their dictionary form.\n",
    "\n",
    "Lemmatization considers full vocabulary of a language to apply a morphological analysis.\n",
    "\n",
    "e.g. Word: Feet, Lemma: Foot\n",
    "\n",
    "Stemming is the process of converting words into their non-changing portion.\n"
   ]
  },
  {
   "cell_type": "code",
   "execution_count": 18,
   "metadata": {},
   "outputs": [],
   "source": [
    "import spacy\n",
    "nlp = spacy.load('en_core_web_sm')"
   ]
  },
  {
   "cell_type": "code",
   "execution_count": 19,
   "metadata": {},
   "outputs": [],
   "source": [
    "doc1 = nlp(\"The striped bats are hanging on their feet for best\")"
   ]
  },
  {
   "cell_type": "code",
   "execution_count": 17,
   "metadata": {},
   "outputs": [
    {
     "name": "stdout",
     "output_type": "stream",
     "text": [
      "The \t DET \t 7425985699627899538 \t the\n",
      "striped \t VERB \t 929563449582324419 \t stripe\n",
      "bats \t NOUN \t 8577633547555682751 \t bat\n",
      "are \t AUX \t 10382539506755952630 \t be\n",
      "hanging \t VERB \t 4780549502391586051 \t hang\n",
      "on \t ADP \t 5640369432778651323 \t on\n",
      "their \t DET \t 561228191312463089 \t -PRON-\n",
      "feet \t NOUN \t 779410287755165804 \t foot\n",
      "for \t ADP \t 16037325823156266367 \t for\n",
      "best \t ADJ \t 5711639017775284443 \t good\n"
     ]
    }
   ],
   "source": [
    "for token in doc1:\n",
    "    print(token.text, '\\t', token.pos_, '\\t',token.lemma, '\\t',token.lemma_)\n",
    "\n",
    "# token, POS, Lemma"
   ]
  },
  {
   "cell_type": "code",
   "execution_count": 23,
   "metadata": {},
   "outputs": [],
   "source": [
    "def show_lemmas(doc):\n",
    "    for token in doc:\n",
    "        print(f'{token.text:{12}} {token.pos_:{6}} {token.lemma:<{22}} {token.lemma_}')"
   ]
  },
  {
   "cell_type": "code",
   "execution_count": 21,
   "metadata": {},
   "outputs": [],
   "source": [
    "doc2 = nlp(u\"The striped bats are hanging on their feet for best\")"
   ]
  },
  {
   "cell_type": "code",
   "execution_count": 24,
   "metadata": {},
   "outputs": [
    {
     "name": "stdout",
     "output_type": "stream",
     "text": [
      "The          DET    7425985699627899538    the\n",
      "striped      VERB   929563449582324419     stripe\n",
      "bats         NOUN   8577633547555682751    bat\n",
      "are          AUX    10382539506755952630   be\n",
      "hanging      VERB   4780549502391586051    hang\n",
      "on           ADP    5640369432778651323    on\n",
      "their        DET    561228191312463089     -PRON-\n",
      "feet         NOUN   779410287755165804     foot\n",
      "for          ADP    16037325823156266367   for\n",
      "best         ADJ    5711639017775284443    good\n"
     ]
    }
   ],
   "source": [
    "show_lemmas(doc2) # 'are' becomes 'be', 'best' -> 'good'. Stemming doesn't do this."
   ]
  },
  {
   "cell_type": "code",
   "execution_count": null,
   "metadata": {},
   "outputs": [],
   "source": []
  }
 ],
 "metadata": {
  "kernelspec": {
   "display_name": "Python 3",
   "language": "python",
   "name": "python3"
  },
  "language_info": {
   "codemirror_mode": {
    "name": "ipython",
    "version": 3
   },
   "file_extension": ".py",
   "mimetype": "text/x-python",
   "name": "python",
   "nbconvert_exporter": "python",
   "pygments_lexer": "ipython3",
   "version": "3.7.6"
  }
 },
 "nbformat": 4,
 "nbformat_minor": 4
}
