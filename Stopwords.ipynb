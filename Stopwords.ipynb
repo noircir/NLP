{
 "cells": [
  {
   "cell_type": "code",
   "execution_count": 1,
   "metadata": {},
   "outputs": [],
   "source": [
    "import spacy\n",
    "nlp = spacy.load('en_core_web_sm')"
   ]
  },
  {
   "cell_type": "code",
   "execution_count": 2,
   "metadata": {},
   "outputs": [
    {
     "name": "stdout",
     "output_type": "stream",
     "text": [
      "{'we', 'while', 'few', 'thereupon', 'almost', '‘s', '’re', 'did', 'into', 'three', 'least', 'such', 'even', 'any', 'somehow', 'take', 'every', 'but', \"'ll\", 'can', 'or', 'between', 'his', 'whatever', 'them', '‘d', 'same', 'call', 'whereupon', 'anyhow', 'whenever', 'are', 'either', 'after', 'another', 'besides', 'former', 'many', 'only', 'wherever', 'again', 'elsewhere', 'whom', 'side', 'unless', 'front', 'top', 'ca', 'eight', 'go', 'thru', 'some', 'itself', 'seeming', 'those', 'yet', 'sometime', 'will', 'something', 'per', 'could', 'seem', 'of', 'what', 'before', 'she', 'myself', 'from', \"'m\", 'becoming', 'make', 'rather', 'each', 'upon', 'however', 'sometimes', 'full', 'due', 'whoever', 'mine', 'than', 'under', 'doing', 'the', 'otherwise', 'neither', 'everything', 'amongst', 'it', 'therein', 'regarding', 'already', 'does', 'off', 'often', 'perhaps', 'yourself', 'us', 'thereafter', 'has', 'ours', 'namely', 'part', 'which', 'be', 'out', 'was', 'hereby', 'most', 'over', \"'s\", 'twelve', 'never', 'else', 'with', 'one', 'down', 'latter', 'keep', 'you', 'together', 'themselves', 'would', 'none', 'may', 'noone', 'really', 'by', 'although', 'other', \"'ve\", 'own', 'throughout', 'thus', 'along', 'have', 'been', \"'re\", 'around', 'its', '’ve', 'hundred', 'becomes', 'using', 'whose', 'moreover', 'me', 'hereafter', 'n‘t', 'at', 'do', 'these', 'forty', 'just', 'quite', 'how', 'ourselves', 'in', 'above', 'via', 'onto', 'get', 'they', 'am', 're', 'against', 'too', 'well', 'is', 'meanwhile', 'give', 'move', 'two', 'last', 'very', 'that', 'as', 'everywhere', 'should', 'enough', 'twenty', 'show', 'much', 'i', 'where', 'anything', 'though', 'behind', 'her', 'among', 'anyway', 'see', 'whither', 'thence', 'next', 'nevertheless', 'this', 'become', 'below', 'somewhere', '‘ve', 'he', 'fifteen', 'your', 'empty', 'cannot', 'hers', 'then', 'thereby', 'since', 'no', 'so', 'seems', 'n’t', 'ten', 'nothing', \"'d\", 'seemed', \"n't\", 'and', 'him', 'when', 'wherein', 'whereby', 'toward', 'because', 'until', 'five', 'everyone', 'without', 'except', 'their', 'might', 'afterwards', 'always', 'third', 'eleven', 'others', 'several', 'whereafter', 'why', 'now', 'herself', 'used', 'alone', 'an', 'who', 'various', 'nine', 'nobody', 'bottom', 'a', 'herein', '’s', 'latterly', 'himself', '‘m', 'beyond', 'on', 'therefore', 'six', '’d', 'were', 'name', 'hereupon', 'made', 'must', 'being', 'anyone', 'further', 'beforehand', 'please', 'sixty', 'beside', 'both', 'through', '’ll', '’m', 'whence', 'four', 'towards', 'became', 'had', 'during', 'someone', 'all', 'put', 'anywhere', '‘ll', 'amount', 'to', 'back', 'serious', 'up', 'whereas', 'whole', 'if', 'done', 'mostly', 'still', 'also', 'say', 'ever', 'about', 'indeed', 'fifty', 'less', 'here', 'yourselves', 'more', '‘re', 'yours', 'there', 'our', 'nowhere', 'not', 'whether', 'once', 'across', 'formerly', 'within', 'for', 'first', 'hence', 'my', 'nor'}\n"
     ]
    }
   ],
   "source": [
    "# Default stop words in SpaCy's (remember that sets are unordered):\n",
    "print(nlp.Defaults.stop_words)"
   ]
  },
  {
   "cell_type": "code",
   "execution_count": 3,
   "metadata": {},
   "outputs": [
    {
     "data": {
      "text/plain": [
       "326"
      ]
     },
     "execution_count": 3,
     "metadata": {},
     "output_type": "execute_result"
    }
   ],
   "source": [
    "len(nlp.Defaults.stop_words) "
   ]
  },
  {
   "cell_type": "code",
   "execution_count": 4,
   "metadata": {},
   "outputs": [
    {
     "data": {
      "text/plain": [
       "True"
      ]
     },
     "execution_count": 4,
     "metadata": {},
     "output_type": "execute_result"
    }
   ],
   "source": [
    "nlp.vocab['always'].is_stop"
   ]
  },
  {
   "cell_type": "code",
   "execution_count": 5,
   "metadata": {},
   "outputs": [
    {
     "data": {
      "text/plain": [
       "False"
      ]
     },
     "execution_count": 5,
     "metadata": {},
     "output_type": "execute_result"
    }
   ],
   "source": [
    "nlp.vocab['Finance'].is_stop"
   ]
  },
  {
   "cell_type": "markdown",
   "metadata": {},
   "source": [
    "# To add a stop word"
   ]
  },
  {
   "cell_type": "code",
   "execution_count": 6,
   "metadata": {},
   "outputs": [
    {
     "data": {
      "text/plain": [
       "False"
      ]
     },
     "execution_count": 6,
     "metadata": {},
     "output_type": "execute_result"
    }
   ],
   "source": [
    "nlp.vocab['asdf'].is_stop"
   ]
  },
  {
   "cell_type": "code",
   "execution_count": 7,
   "metadata": {},
   "outputs": [],
   "source": [
    "nlp.Defaults.stop_words.add('asdf')\n",
    "\n",
    "nlp.vocab['asdf'].is_stop = True  # Set stop_word tag"
   ]
  },
  {
   "cell_type": "code",
   "execution_count": 8,
   "metadata": {},
   "outputs": [
    {
     "data": {
      "text/plain": [
       "True"
      ]
     },
     "execution_count": 8,
     "metadata": {},
     "output_type": "execute_result"
    }
   ],
   "source": [
    "nlp.vocab['asdf'].is_stop"
   ]
  },
  {
   "cell_type": "markdown",
   "metadata": {},
   "source": [
    "# To remove a stop word"
   ]
  },
  {
   "cell_type": "code",
   "execution_count": 9,
   "metadata": {},
   "outputs": [
    {
     "data": {
      "text/plain": [
       "True"
      ]
     },
     "execution_count": 9,
     "metadata": {},
     "output_type": "execute_result"
    }
   ],
   "source": [
    "nlp.vocab['latter'].is_stop"
   ]
  },
  {
   "cell_type": "code",
   "execution_count": 10,
   "metadata": {},
   "outputs": [],
   "source": [
    "nlp.Defaults.stop_words.remove('latter')\n",
    "\n",
    "nlp.vocab['latter'].is_stop = False"
   ]
  },
  {
   "cell_type": "code",
   "execution_count": 11,
   "metadata": {},
   "outputs": [
    {
     "data": {
      "text/plain": [
       "False"
      ]
     },
     "execution_count": 11,
     "metadata": {},
     "output_type": "execute_result"
    }
   ],
   "source": [
    "nlp.vocab['latter'].is_stop"
   ]
  },
  {
   "cell_type": "code",
   "execution_count": null,
   "metadata": {},
   "outputs": [],
   "source": []
  }
 ],
 "metadata": {
  "kernelspec": {
   "display_name": "Python 3",
   "language": "python",
   "name": "python3"
  },
  "language_info": {
   "codemirror_mode": {
    "name": "ipython",
    "version": 3
   },
   "file_extension": ".py",
   "mimetype": "text/x-python",
   "name": "python",
   "nbconvert_exporter": "python",
   "pygments_lexer": "ipython3",
   "version": "3.7.6"
  }
 },
 "nbformat": 4,
 "nbformat_minor": 4
}
